{
 "cells": [
  {
   "cell_type": "markdown",
   "id": "4fd8b676-2778-41fd-ad32-c00710faa7d1",
   "metadata": {},
   "source": [
    "# Install a virtual environment in notebook"
   ]
  },
  {
   "cell_type": "markdown",
   "id": "7c4cdbac-4d68-4972-a7e2-0d4dec6af472",
   "metadata": {
    "tags": []
   },
   "source": [
    "* [Why use a virtual env](#Why-use-a-virtual-env)\n",
    "* [Create your environment](#Create-your-environment)\n",
    "    * [With Conda](#With-Conda)\n",
    "* [Use your new virtual environment in your notebook](#Use-your-new-virtual-environment-in-your-notebook)"
   ]
  },
  {
   "cell_type": "markdown",
   "id": "5ba9eda6-2939-4404-8883-533c0810fc7d",
   "metadata": {},
   "source": [
    "## Why use a virtual env \n",
    "\n",
    "Python will, by default, store all installed packages on your VM in the same place. In case you want to work on two different projects, using different libraries / versions, this can be a problem since you cannot have two versions of the same library.\n",
    "\n",
    "We can avoid this issue by creating what's called a virtual environment, which is basically a dedicated python environement, with a specific python version and specific libraries, that we can \"activate\" whenever we need to.\n",
    "\n",
    "In Jupyter notebook, we can access these virtual environments by adding a kernel linked to this environment. A kernel is a specific execution environment required by Jupyter Notebooks.\n"
   ]
  },
  {
   "cell_type": "code",
   "execution_count": 1,
   "id": "9b4914ee-f0ef-46c4-a48b-6acad58a6c70",
   "metadata": {
    "tags": []
   },
   "outputs": [
    {
     "name": "stdout",
     "output_type": "stream",
     "text": [
      "Python 3.12.2\n"
     ]
    }
   ],
   "source": [
    "#current Python Version\n",
    "!python --version"
   ]
  },
  {
   "cell_type": "markdown",
   "id": "8ecfd9ee-c257-4aca-8af6-3311458ae386",
   "metadata": {},
   "source": [
    "## Choose a new python version \n",
    "\n",
    "Virtual environment require a specific Python version.\n",
    "\n",
    "You must choose your python version before creating your environment. You will see how to install it in the next section.\n",
    "\n",
    "We recommend using the latest (`3.12.2` as of writing). "
   ]
  },
  {
   "cell_type": "markdown",
   "id": "841baca6-85cd-4c3c-8052-b3940c49102b",
   "metadata": {},
   "source": [
    "Create and activate your env (`<python-version>` should be the version specified in [Choose a new python version](#Choose-a-new-python-version), as of writing the latest is `3.12.2`)\n",
    "\n",
    "```bash\n",
    "conda create -n myenv python=<python-version>\n",
    "```\n",
    "Answer `yes`\n",
    "\n",
    "```bash\n",
    "conda activate myenv\n",
    "```\n",
    "Answer `yes`\n",
    "\n",
    "Install the `ipykernel` package : \n",
    "```bash\n",
    "conda install -n myenv ipykernel\n",
    "```\n",
    "\n",
    "Install your packages \n",
    "\n",
    "```bash\n",
    "pip install openai==1.13.3\n",
    "```\n",
    "\n",
    "Add your environment to the available envs in Jupyter : \n",
    "```bash\n",
    "python -m ipykernel install --user --name=myenv\n",
    "```"
   ]
  },
  {
   "cell_type": "code",
   "execution_count": 2,
   "id": "4d105397-38c8-4da3-9ba4-f3e2fa700e61",
   "metadata": {},
   "outputs": [
    {
     "name": "stdout",
     "output_type": "stream",
     "text": [
      "Name: openai\n",
      "Version: 1.51.2\n",
      "Summary: The official Python library for the openai API\n",
      "Home-page: https://github.com/openai/openai-python\n",
      "Author: \n",
      "Author-email: OpenAI <support@openai.com>\n",
      "License: \n",
      "Location: /opt/conda/envs/PP_new/lib/python3.12/site-packages\n",
      "Requires: anyio, distro, httpx, jiter, pydantic, sniffio, tqdm, typing-extensions\n",
      "Required-by: langchain-openai\n",
      "Note: you may need to restart the kernel to use updated packages.\n"
     ]
    }
   ],
   "source": [
    "%pip show openai"
   ]
  },
  {
   "cell_type": "code",
   "execution_count": 3,
   "id": "65ea9e4c",
   "metadata": {},
   "outputs": [
    {
     "name": "stdout",
     "output_type": "stream",
     "text": [
      "absl-py @ file:///croot/absl-py_1714140470852/work\n",
      "aiohappyeyeballs @ file:///croot/aiohappyeyeballs_1725434011349/work\n",
      "aiohttp @ file:///croot/aiohttp_1725527756643/work\n",
      "aiosignal @ file:///tmp/build/80754af9/aiosignal_1637843061372/work\n",
      "alembic @ file:///work/perseverance-python-buildout/croot/alembic_1707343715792/work\n",
      "aniso8601 @ file:///tmp/build/80754af9/aniso8601_1614708839015/work\n",
      "annotated-types @ file:///croot/annotated-types_1709542908624/work\n",
      "anyio @ file:///croot/anyio_1706220167567/work\n",
      "asttokens @ file:///opt/conda/conda-bld/asttokens_1646925590279/work\n",
      "attrs @ file:///croot/attrs_1729089401488/work\n",
      "bcrypt @ file:///work/perseverance-python-buildout/croot/bcrypt_1698864043363/work\n",
      "blinker @ file:///work/perseverance-python-buildout/croot/blinker_1698846408677/work\n",
      "Bottleneck @ file:///croot/bottleneck_1709069899917/work\n",
      "Brotli @ file:///croot/brotli-split_1714483155106/work\n",
      "cachetools @ file:///croot/cachetools_1713977085444/work\n",
      "certifi @ file:///croot/certifi_1725551672989/work/certifi\n",
      "cffi @ file:///croot/cffi_1726856441404/work\n",
      "charset-normalizer @ file:///croot/charset-normalizer_1721748349566/work\n",
      "click @ file:///work/perseverance-python-buildout/croot/click_1698845879718/work\n",
      "cloudpickle @ file:///croot/cloudpickle_1721657346512/work\n",
      "comm @ file:///croot/comm_1709322850197/work\n",
      "contourpy @ file:///work/perseverance-python-buildout/croot/contourpy_1701756524386/work\n",
      "cryptography @ file:///croot/cryptography_1724940562255/work\n",
      "cycler @ file:///tmp/build/80754af9/cycler_1637851556182/work\n",
      "databricks-sdk @ file:///croot/databricks-sdk_1728391194437/work\n",
      "datasets @ file:///croot/datasets_1716911606380/work\n",
      "debugpy @ file:///work/perseverance-python-buildout/croot/debugpy_1698884710808/work\n",
      "decorator @ file:///opt/conda/conda-bld/decorator_1643638310831/work\n",
      "Deprecated @ file:///work/perseverance-python-buildout/croot/deprecated_1698868068243/work\n",
      "dill @ file:///croot/dill_1715094664823/work\n",
      "distro @ file:///croot/distro_1714488253808/work\n",
      "docker @ file:///croot/docker-py_1715881521444/work\n",
      "executing @ file:///opt/conda/conda-bld/executing_1646925071911/work\n",
      "filelock @ file:///work/perseverance-python-buildout/croot/filelock_1701733993137/work\n",
      "Flask @ file:///croot/flask_1716545870149/work\n",
      "fonttools @ file:///croot/fonttools_1713551344105/work\n",
      "frozenlist @ file:///work/perseverance-python-buildout/croot/frozenlist_1698886842990/work\n",
      "fsspec @ file:///croot/fsspec_1714461537038/work\n",
      "gitdb @ file:///tmp/build/80754af9/gitdb_1617117951232/work\n",
      "GitPython @ file:///croot/gitpython_1720455034730/work\n",
      "google-auth @ file:///croot/google-auth_1715111149956/work\n",
      "graphene @ file:///croot/graphene_1715882179759/work\n",
      "graphql-core @ file:///croot/graphql-core_1713879863137/work\n",
      "graphql-relay @ file:///croot/graphql-relay_1715870165118/work\n",
      "greenlet @ file:///croot/greenlet_1702059959679/work\n",
      "gunicorn @ file:///croot/gunicorn_1720002502993/work\n",
      "h11 @ file:///croot/h11_1706652277403/work\n",
      "h5py @ file:///croot/h5py_1715094721489/work\n",
      "httpcore @ file:///croot/httpcore_1706728464539/work\n",
      "httpx @ file:///croot/httpx_1723474802858/work\n",
      "huggingface_hub @ file:///home/conda/feedstock_root/build_artifacts/huggingface_hub_1728485344216/work\n",
      "idna @ file:///croot/idna_1714398848350/work\n",
      "importlib-metadata @ file:///croot/importlib_metadata-suite_1704813515092/work\n",
      "ipykernel @ file:///croot/ipykernel_1728665589812/work\n",
      "ipython @ file:///croot/ipython_1726064227985/work\n",
      "itsdangerous @ file:///croot/itsdangerous_1716533337253/work\n",
      "jedi @ file:///croot/jedi_1721058342488/work\n",
      "Jinja2 @ file:///croot/jinja2_1716993405101/work\n",
      "jiter @ file:///home/conda/feedstock_root/build_artifacts/jiter_1728396196396/work\n",
      "joblib @ file:///croot/joblib_1718217211762/work\n",
      "jsonpatch @ file:///croot/jsonpatch_1714483231291/work\n",
      "jsonpointer==2.1\n",
      "jupyter_client @ file:///work/perseverance-python-buildout/croot/jupyter_client_1701731788627/work\n",
      "jupyter_core @ file:///croot/jupyter_core_1718818295206/work\n",
      "keras @ file:///croot/keras_1723128658937/work\n",
      "kiwisolver @ file:///work/perseverance-python-buildout/croot/kiwisolver_1698847502605/work\n",
      "langchain-core @ file:///home/conda/feedstock_root/build_artifacts/langchain-core_1728444835072/work\n",
      "langchain-openai @ file:///home/conda/feedstock_root/build_artifacts/langchain-openai_1728090247931/work\n",
      "langsmith @ file:///home/conda/feedstock_root/build_artifacts/langsmith_1727415227475/work\n",
      "Mako @ file:///work/perseverance-python-buildout/croot/mako_1698863160651/work\n",
      "Markdown @ file:///work/perseverance-python-buildout/croot/markdown_1698870813381/work\n",
      "markdown-it-py @ file:///work/perseverance-python-buildout/croot/markdown-it-py_1698846045803/work\n",
      "MarkupSafe @ file:///work/perseverance-python-buildout/croot/markupsafe_1707342994941/work\n",
      "matplotlib==3.9.2\n",
      "matplotlib-inline @ file:///work/perseverance-python-buildout/croot/matplotlib-inline_1698864771271/work\n",
      "mdurl @ file:///work/perseverance-python-buildout/croot/mdurl_1698845653285/work\n",
      "ml_dtypes @ file:///croot/ml_dtypes_1722369114743/work\n",
      "mlflow @ file:///croot/mlflow_1728398390055/work\n",
      "mpmath @ file:///work/perseverance-python-buildout/croot/mpmath_1698864994882/work\n",
      "multidict @ file:///croot/multidict_1701096859099/work\n",
      "multiprocess @ file:///work/perseverance-python-buildout/croot/multiprocess_1698870874259/work\n",
      "namex @ file:///croot/namex_1715206936162/work\n",
      "nest-asyncio @ file:///croot/nest-asyncio_1708532673751/work\n",
      "networkx @ file:///croot/networkx_1720002482208/work\n",
      "numexpr @ file:///work/perseverance-python-buildout/croot/numexpr_1698871031164/work\n",
      "numpy @ file:///croot/numpy_and_numpy_base_1708638617955/work/dist/numpy-1.26.4-cp312-cp312-linux_x86_64.whl#sha256=b8e59fcb10ab071cbeded47aed247ddfa1c902d595848c27f82021340e226134\n",
      "openai @ file:///home/conda/feedstock_root/build_artifacts/openai_1728432082093/work\n",
      "opentelemetry-api @ file:///croot/opentelemetry-api_1724767675995/work\n",
      "opentelemetry-sdk @ file:///croot/opentelemetry-sdk_1728050463490/work\n",
      "opentelemetry-semantic-conventions @ file:///croot/opentelemetry-semantic-conventions_1725003919625/work\n",
      "optree @ file:///croot/optree_1723069484006/work\n",
      "orjson @ file:///croot/orjson_1728486951572/work/target/wheels/orjson-3.10.7-cp312-cp312-linux_x86_64.whl#sha256=e7178fa0487c80cb9fb0f60138928a3fc90356815e28ee08f656d695fea86b85\n",
      "packaging @ file:///croot/packaging_1720101850331/work\n",
      "pandas @ file:///croot/pandas_1718308974269/work/dist/pandas-2.2.2-cp312-cp312-linux_x86_64.whl#sha256=92c518f7e09edd50b5caa5862636c51d6a29391803f3ada62f68aa52f27d8f92\n",
      "paramiko @ file:///opt/conda/conda-bld/paramiko_1640109032755/work\n",
      "parso @ file:///opt/conda/conda-bld/parso_1641458642106/work\n",
      "pexpect @ file:///tmp/build/80754af9/pexpect_1605563209008/work\n",
      "pillow @ file:///croot/pillow_1721059439630/work\n",
      "platformdirs @ file:///work/perseverance-python-buildout/croot/platformdirs_1701732573265/work\n",
      "prompt-toolkit @ file:///croot/prompt-toolkit_1704404351921/work\n",
      "protobuf==4.25.3\n",
      "psutil @ file:///work/perseverance-python-buildout/croot/psutil_1698863411559/work\n",
      "ptyprocess @ file:///tmp/build/80754af9/ptyprocess_1609355006118/work/dist/ptyprocess-0.7.0-py2.py3-none-any.whl\n",
      "pure-eval @ file:///opt/conda/conda-bld/pure_eval_1646925070566/work\n",
      "pyaml==24.9.0\n",
      "pyarrow @ file:///croot/pyarrow_1721664224170/work/python\n",
      "pyasn1 @ file:///Users/ktietz/demo/mc3/conda-bld/pyasn1_1629708007385/work\n",
      "pyasn1-modules==0.2.8\n",
      "pycparser @ file:///tmp/build/80754af9/pycparser_1636541352034/work\n",
      "pydantic @ file:///croot/pydantic_1725040526370/work\n",
      "pydantic_core @ file:///croot/pydantic-core_1724790363792/work\n",
      "Pygments @ file:///work/perseverance-python-buildout/croot/pygments_1698846270603/work\n",
      "PyNaCl @ file:///work/perseverance-python-buildout/croot/pynacl_1698898675027/work\n",
      "pyOpenSSL @ file:///croot/pyopenssl_1723651579422/work\n",
      "pyparsing @ file:///croot/pyparsing_1725041624202/work\n",
      "PySocks @ file:///work/perseverance-python-buildout/croot/pysocks_1698845478203/work\n",
      "python-dateutil @ file:///croot/python-dateutil_1716495738603/work\n",
      "pytz @ file:///croot/pytz_1713974312559/work\n",
      "PyYAML @ file:///croot/pyyaml_1728657952215/work\n",
      "pyzmq @ file:///croot/pyzmq_1705605076900/work\n",
      "regex @ file:///croot/regex_1726669635272/work\n",
      "requests @ file:///croot/requests_1721410876868/work\n",
      "rich @ file:///croot/rich_1720637495510/work\n",
      "rsa @ file:///tmp/build/80754af9/rsa_1614366226499/work\n",
      "scikit-learn @ file:///croot/scikit-learn_1721921875708/work\n",
      "scipy @ file:///croot/scipy_1717521478074/work/dist/scipy-1.13.1-cp312-cp312-linux_x86_64.whl#sha256=60385538899130902c9656b29351f2b57595535828ce62d6c5880454d696954d\n",
      "setuptools==75.1.0\n",
      "six @ file:///tmp/build/80754af9/six_1644875935023/work\n",
      "smmap @ file:///tmp/build/80754af9/smmap_1611694433573/work\n",
      "sniffio @ file:///croot/sniffio_1705431295498/work\n",
      "SQLAlchemy @ file:///croot/sqlalchemy_1725885050993/work\n",
      "sqlparse @ file:///work/perseverance-python-buildout/croot/sqlparse_1698874574933/work\n",
      "stack-data @ file:///opt/conda/conda-bld/stack_data_1646927590127/work\n",
      "sympy @ file:///croot/sympy_1724938189289/work\n",
      "tenacity @ file:///croot/tenacity_1721222508356/work\n",
      "threadpoolctl @ file:///croot/threadpoolctl_1719407800858/work\n",
      "tiktoken @ file:///home/conda/feedstock_root/build_artifacts/tiktoken_1728083954548/work\n",
      "torch @ file:///croot/pytorch-select_1725478810240/work\n",
      "tornado @ file:///croot/tornado_1718740109488/work\n",
      "tqdm @ file:///croot/tqdm_1724853939799/work\n",
      "traitlets @ file:///croot/traitlets_1718227057033/work\n",
      "typing_extensions @ file:///croot/typing_extensions_1715268824938/work\n",
      "tzdata @ file:///croot/python-tzdata_1690578112552/work\n",
      "unicodedata2 @ file:///croot/unicodedata2_1713212950228/work\n",
      "urllib3 @ file:///croot/urllib3_1727769808118/work\n",
      "wcwidth @ file:///Users/ktietz/demo/mc3/conda-bld/wcwidth_1629357192024/work\n",
      "websocket-client @ file:///croot/websocket-client_1715878298792/work\n",
      "Werkzeug @ file:///croot/werkzeug_1716533313107/work\n",
      "wheel==0.44.0\n",
      "wrapt @ file:///work/perseverance-python-buildout/croot/wrapt_1698851040578/work\n",
      "xxhash @ file:///work/perseverance-python-buildout/croot/python-xxhash_1698900334985/work\n",
      "yarl @ file:///croot/yarl_1725976495189/work\n",
      "zipp @ file:///croot/zipp_1729012354496/work\n",
      "Note: you may need to restart the kernel to use updated packages.\n"
     ]
    }
   ],
   "source": [
    "%pip freeze requirements.txt"
   ]
  }
 ],
 "metadata": {
  "kernelspec": {
   "display_name": "PP_new",
   "language": "python",
   "name": "PP_new"
  },
  "language_info": {
   "codemirror_mode": {
    "name": "ipython",
    "version": 3
   },
   "file_extension": ".py",
   "mimetype": "text/x-python",
   "name": "python",
   "nbconvert_exporter": "python",
   "pygments_lexer": "ipython3",
   "version": "3.12.2"
  }
 },
 "nbformat": 4,
 "nbformat_minor": 5
}
